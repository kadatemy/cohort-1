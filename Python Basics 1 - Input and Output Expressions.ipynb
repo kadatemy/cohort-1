{
 "cells": [
  {
   "cell_type": "markdown",
   "metadata": {},
   "source": [
    "### Codes used in Class"
   ]
  },
  {
   "cell_type": "markdown",
   "metadata": {},
   "source": [
    "> # Print Statement"
   ]
  },
  {
   "cell_type": "code",
   "execution_count": 7,
   "metadata": {},
   "outputs": [
    {
     "data": {
      "text/plain": [
       "70"
      ]
     },
     "execution_count": 7,
     "metadata": {},
     "output_type": "execute_result"
    }
   ],
   "source": [
    "# trying to display output without using \"print\"\n",
    "num1 = 52\n",
    "num1 # 1\n",
    "num2 = 18\n",
    "num2 # 2\n",
    "sumNum = num1 + num2\n",
    "sumNum # 3"
   ]
  },
  {
   "cell_type": "code",
   "execution_count": 8,
   "metadata": {},
   "outputs": [
    {
     "name": "stdout",
     "output_type": "stream",
     "text": [
      "A random number 52\n",
      "num2 18\n",
      "sumNum 70\n"
     ]
    }
   ],
   "source": [
    "# properly displaying output using \"print\"\n",
    "num1 = 52\n",
    "print(\"A random number\",num1) # 1\n",
    "num2 = 18\n",
    "print(\"num2\",num2) # 2\n",
    "sumNum = num1 + num2\n",
    "print(\"sumNum\",sumNum) # 3"
   ]
  },
  {
   "cell_type": "markdown",
   "metadata": {},
   "source": [
    "#### The __format__ method:"
   ]
  },
  {
   "cell_type": "code",
   "execution_count": 9,
   "metadata": {},
   "outputs": [
    {
     "data": {
      "text/plain": [
       "'The rate of cyber crime in the country has a yearly increament of about 20%'"
      ]
     },
     "execution_count": 9,
     "metadata": {},
     "output_type": "execute_result"
    }
   ],
   "source": [
    "report = \"The rate of cyber crime in the country has a yearly increament of about {}%\"\n",
    "report.format(20)"
   ]
  },
  {
   "cell_type": "code",
   "execution_count": 10,
   "metadata": {},
   "outputs": [
    {
     "data": {
      "text/plain": [
       "'The rate of cyber crime in Kenya has a yearly increament of about 2%'"
      ]
     },
     "execution_count": 10,
     "metadata": {},
     "output_type": "execute_result"
    }
   ],
   "source": [
    "\"The rate of cyber crime in {} has a yearly increament of about {}%\".format(\"Kenya\", 2)"
   ]
  },
  {
   "cell_type": "markdown",
   "metadata": {},
   "source": [
    "> Note that the codes in Cells 9 and 10 mean the same thing."
   ]
  },
  {
   "cell_type": "markdown",
   "metadata": {},
   "source": [
    "#### Print Statements with format"
   ]
  },
  {
   "cell_type": "code",
   "execution_count": null,
   "metadata": {},
   "outputs": [],
   "source": [
    "num1 = 1\n",
    "num2 = 3\n",
    "\n",
    "print(\"The sum of two given numbers {} and {} is {}\".format(num1, num2, num1+num2))"
   ]
  },
  {
   "cell_type": "code",
   "execution_count": 12,
   "metadata": {},
   "outputs": [
    {
     "name": "stdout",
     "output_type": "stream",
     "text": [
      "The gross amount given is 150000 but the net is 128000, after a tax of 22000 was deducted.\n"
     ]
    }
   ],
   "source": [
    "# Print Statement using format\n",
    "gross = 150000\n",
    "net = 128000\n",
    "\n",
    "print(\"The gross amount given is {} but the net is {}, after a tax of {} was \\\n",
    "deducted.\".format(gross, net, gross-net))"
   ]
  },
  {
   "cell_type": "markdown",
   "metadata": {},
   "source": [
    "#### Print Statements with f-string"
   ]
  },
  {
   "cell_type": "code",
   "execution_count": 11,
   "metadata": {},
   "outputs": [
    {
     "name": "stdout",
     "output_type": "stream",
     "text": [
      "The rate of cyber crime in the country has a yearly increament of about 12%\n"
     ]
    }
   ],
   "source": [
    "crimeRate = 12\n",
    "report = f\"The rate of cyber crime in the country has a yearly increament of about {crimeRate}%\"\n",
    "print(report)"
   ]
  },
  {
   "cell_type": "code",
   "execution_count": null,
   "metadata": {},
   "outputs": [],
   "source": [
    "# Print Statement using f-string\n",
    "gross = 150000\n",
    "net = 128000\n",
    "\n",
    "print(f\"The gross amount given is {gross} but the net is {net}, after a tax of {gross-net} \\\n",
    "was deducted.\")"
   ]
  },
  {
   "cell_type": "markdown",
   "metadata": {},
   "source": [
    "> # Input Statement"
   ]
  },
  {
   "cell_type": "code",
   "execution_count": null,
   "metadata": {},
   "outputs": [],
   "source": [
    "name = input()"
   ]
  },
  {
   "cell_type": "code",
   "execution_count": null,
   "metadata": {},
   "outputs": [],
   "source": [
    "print(f\"Hello {name}\") \n",
    "# OR: print(\"Hello {}\".format(name)) \n",
    "# OR: print(\"Hello \",name)"
   ]
  },
  {
   "cell_type": "markdown",
   "metadata": {},
   "source": [
    "Problem: Write a program for Kadatemy that takes the following details of new users.\n",
    "1. Their fullname\n",
    "2. Email address\n",
    "3. Age\n",
    "<br>and also specifying their data types.</br>"
   ]
  },
  {
   "cell_type": "code",
   "execution_count": null,
   "metadata": {},
   "outputs": [],
   "source": [
    "# SOLUTION:\n",
    "\n",
    "print(\"Welcome to Kadatemy \\n Please tell us your full name\")\n",
    "\n",
    "# Using input with a specific data type\n",
    "fullname = str(input())\n",
    "print(f\"Thank you {fullname}. Now proceed to the next stage. \\n Kindly insert your email address\")\n",
    "\n",
    "email = str(input())\n",
    "print(\"One more thing - We need to know your age. Please input it below\")\n",
    "\n",
    "age = int(input())\n",
    "print(\"We got that. Thank you!\")"
   ]
  },
  {
   "cell_type": "markdown",
   "metadata": {},
   "source": [
    "Use the sample above to attempt the given assignment. While doing this, try out new things on your own and just have fun coding! :)"
   ]
  },
  {
   "cell_type": "code",
   "execution_count": null,
   "metadata": {},
   "outputs": [],
   "source": []
  }
 ],
 "metadata": {
  "kernelspec": {
   "display_name": "Python 3",
   "language": "python",
   "name": "python3"
  },
  "language_info": {
   "codemirror_mode": {
    "name": "ipython",
    "version": 3
   },
   "file_extension": ".py",
   "mimetype": "text/x-python",
   "name": "python",
   "nbconvert_exporter": "python",
   "pygments_lexer": "ipython3",
   "version": "3.8.5"
  }
 },
 "nbformat": 4,
 "nbformat_minor": 4
}
